{
 "cells": [
  {
   "cell_type": "code",
   "execution_count": 1,
   "id": "cd1f0dca",
   "metadata": {},
   "outputs": [],
   "source": [
    "import tkinter as tk\n",
    "from tkinter import *\n",
    "from tkinter import filedialog\n",
    "from tkinter.ttk import Combobox\n",
    "import pyttsx3\n",
    "import os\n",
    "from gtts import gTTS\n",
    "from playsound import playsound"
   ]
  },
  {
   "cell_type": "code",
   "execution_count": 2,
   "id": "b0b7d931",
   "metadata": {},
   "outputs": [],
   "source": [
    "tts=pyttsx3.init()\n",
    "def speaknow():\n",
    "    text=text_box.get(1.0,END)\n",
    "    gender=gender_box.get()\n",
    "    speed=speed_box.get()\n",
    "    voice=tts.getProperty('voices')\n",
    "    \n",
    "    \n",
    "    def setvoice():\n",
    "        if(gender=='Male'):\n",
    "            tts.setProperty('voice',voice[0].id)\n",
    "            tts.say(text)\n",
    "            tts.runAndWait()\n",
    "        else:\n",
    "            tts.setProperty('voice',voice[1].id)\n",
    "            tts.say(text)\n",
    "            tts.runAndWait()\n",
    "            \n",
    "    if(text):\n",
    "        if(speed=='Fast'):\n",
    "            tts.setProperty('rate',250)\n",
    "            setvoice()\n",
    "        elif(speed=='Medium'):\n",
    "            tts.setProperty('rate',150)\n",
    "            setvoice()\n",
    "        else:\n",
    "            tts.setProperty('rate',60)\n",
    "            setvoice()\n",
    "            \n",
    "            \n",
    "     "
   ]
  },
  {
   "cell_type": "code",
   "execution_count": 3,
   "id": "3446aa6f",
   "metadata": {},
   "outputs": [],
   "source": [
    "            def download():\n",
    "                text=text_box.get(1.0,END)\n",
    "                gender=gender_box.get()\n",
    "                speed=speed_box.get()\n",
    "                \n",
    "                voice=tts.getProperty('voices')\n",
    "\n",
    "        \n",
    "                if(gender=='Male'):\n",
    "                    tts.setProperty('voice',voice[0].id)\n",
    "\n",
    "                    path=filedialog.askdirectory()\n",
    "                    os.chdir(path)\n",
    "                    tts.save_to_file(text,'text.mp3')  \n",
    "                    tts.runAndWait()\n",
    "                else:\n",
    "                    tts.setProperty('voice',voice[1].id)\n",
    "\n",
    "                    path=filedialog.askdirectory()\n",
    "                    os.chdir(path)\n",
    "                    tts.save_to_file(text,'text.mp3')  \n",
    "                    tts.runAndWait()\n",
    "\n",
    "                if(text):\n",
    "                    if(speed=='Fast'):\n",
    "                        tts.setProperty('rate',250)\n",
    "                        setvoice()\n",
    "                    elif(speed=='Medium'):\n",
    "                        tts.setProperty('rate',150)\n",
    "                        setvoice()\n",
    "                    else:\n",
    "                        tts.setProperty('rate',60)\n",
    "                        setvoice()"
   ]
  },
  {
   "cell_type": "code",
   "execution_count": 4,
   "id": "7e0473aa",
   "metadata": {},
   "outputs": [],
   "source": [
    "root = Tk()\n",
    "root.title(\"Text to Speech converter \")\n",
    "root.geometry(\"1000x580+200+80\")\n",
    "root.resizable(False,False)\n",
    "root.configure(bg=\"#fdfd96\")\n",
    "\n"
   ]
  },
  {
   "cell_type": "code",
   "execution_count": 5,
   "id": "a37b4a99",
   "metadata": {},
   "outputs": [],
   "source": [
    "logo=PhotoImage(file=r\"C:\\Users\\PURVA\\Desktop\\logo1.png\")\n",
    "root.iconphoto(False,logo)\n",
    "upper_frame=Frame(root,bg=\"#ADD8E6\",width=1200,height=130)\n",
    "upper_frame.place(x=0,y=0)\n",
    "picture=PhotoImage(file=r\"C:\\Users\\PURVA\\Desktop\\logo1.png\")\n",
    "Label(upper_frame,image=picture,bg=\"#0000FF\").place(x=60,y=16)\n",
    "#root.mainloop()"
   ]
  },
  {
   "cell_type": "code",
   "execution_count": 6,
   "id": "68749810",
   "metadata": {},
   "outputs": [],
   "source": [
    "Label(upper_frame,text=\"Text to Speech Converter\",font=\"Georgia 40 bold\",bg=\"#ADD8E6\",fg='blue').place(x=250,y=35)"
   ]
  },
  {
   "cell_type": "code",
   "execution_count": 7,
   "id": "7211d4da",
   "metadata": {},
   "outputs": [],
   "source": [
    "text_box=Text(root,font=\"calibri 20\",bg=\"white\",relief=GROOVE,wrap=WORD,bd=0)\n",
    "text_box.place(x=30,y=150,width=940,height=180)\n",
    "#root.mainloop()"
   ]
  },
  {
   "cell_type": "code",
   "execution_count": 8,
   "id": "1cde589b",
   "metadata": {},
   "outputs": [],
   "source": [
    "gender_box=Combobox(root,values=['Male','Female'],font=\"Roboe 12\", state='r',width=12)\n",
    "gender_box.place(x=340,y=400)\n",
    "gender_box.set('Male')\n",
    "speed_box=Combobox(root,values=['Fast','Medium','Slow'],font=\"Roboe 12\", state='r',width=12)\n",
    "speed_box.place(x=540,y=400)\n",
    "speed_box.set('Medium')\n",
    "#root.mainloop()"
   ]
  },
  {
   "cell_type": "code",
   "execution_count": 9,
   "id": "9eab8487",
   "metadata": {},
   "outputs": [],
   "source": [
    "Label(root,text=\"Select Voice\",font='TimesNewRoman 15 bold',bg=\"#fdfd96\",fg=\"#FFA500\").place(x=340,y=370)\n",
    "Label(root,text=\"Select Speed\",font='TimesNewRoman 15 bold',bg=\"#fdfd96\",fg=\"#FFA500\").place(x=540,y=370)\n",
    "#root.mainloop()"
   ]
  },
  {
   "cell_type": "code",
   "execution_count": 10,
   "id": "30e37124",
   "metadata": {},
   "outputs": [],
   "source": [
    "play_button=PhotoImage(file=r\"C:\\Users\\PURVA\\Desktop\\play.png\")\n",
    "play_btn=Button(root,text=\"   Play\", compound=LEFT, image=play_button, bg='white', width=140, font=\"arial 14 bold\",borderwidth='0.1c',command=speaknow)\n",
    "play_btn.place(x=340,y=450)\n",
    "#root.mainloop()"
   ]
  },
  {
   "cell_type": "code",
   "execution_count": null,
   "id": "1fe225a0",
   "metadata": {},
   "outputs": [
    {
     "name": "stderr",
     "output_type": "stream",
     "text": [
      "Exception in Tkinter callback\n",
      "Traceback (most recent call last):\n",
      "  File \"C:\\Users\\PURVA\\anaconda3\\lib\\tkinter\\__init__.py\", line 1892, in __call__\n",
      "    return self.func(*args)\n",
      "  File \"C:\\Users\\PURVA\\AppData\\Local\\Temp\\ipykernel_14052\\3564358345.py\", line 13, in download\n",
      "    os.chdir(path)\n",
      "OSError: [WinError 123] The filename, directory name, or volume label syntax is incorrect: ''\n"
     ]
    }
   ],
   "source": [
    "download_button=PhotoImage(file=r\"C:\\Users\\PURVA\\Desktop\\download.png\")\n",
    "download_btn=Button(root,text=\"download  \",compound=LEFT, image=download_button, bg='white', width=140, font=\"arial 14 bold\",borderwidth='0.1c',command=download)\n",
    "download_btn.place(x=540,y=450)\n",
    "root.mainloop()"
   ]
  },
  {
   "cell_type": "code",
   "execution_count": null,
   "id": "5b20f8d6",
   "metadata": {},
   "outputs": [],
   "source": []
  },
  {
   "cell_type": "code",
   "execution_count": null,
   "id": "0067bf92",
   "metadata": {},
   "outputs": [],
   "source": []
  }
 ],
 "metadata": {
  "kernelspec": {
   "display_name": "Python 3 (ipykernel)",
   "language": "python",
   "name": "python3"
  },
  "language_info": {
   "codemirror_mode": {
    "name": "ipython",
    "version": 3
   },
   "file_extension": ".py",
   "mimetype": "text/x-python",
   "name": "python",
   "nbconvert_exporter": "python",
   "pygments_lexer": "ipython3",
   "version": "3.9.12"
  }
 },
 "nbformat": 4,
 "nbformat_minor": 5
}
